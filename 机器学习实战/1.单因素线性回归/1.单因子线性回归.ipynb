{
 "cells": [
  {
   "cell_type": "code",
   "execution_count": 1,
   "id": "79b2f8e2",
   "metadata": {},
   "outputs": [],
   "source": [
    "#数据加载\n",
    "import pandas as pd\n",
    "data = pd.read_csv('generated_data.csv')\n"
   ]
  },
  {
   "cell_type": "code",
   "execution_count": 4,
   "id": "b25dcab2",
   "metadata": {},
   "outputs": [
    {
     "name": "stdout",
     "output_type": "stream",
     "text": [
      "<class 'pandas.core.frame.DataFrame'> (10, 2)\n"
     ]
    }
   ],
   "source": [
    "data.head()\n",
    "print(type(data),data.shape)\n",
    "#是一个十行两列的"
   ]
  },
  {
   "cell_type": "code",
   "execution_count": 7,
   "id": "d68750d5",
   "metadata": {},
   "outputs": [
    {
     "name": "stdout",
     "output_type": "stream",
     "text": [
      "0     1\n",
      "1     2\n",
      "2     3\n",
      "3     4\n",
      "4     5\n",
      "5     6\n",
      "6     7\n",
      "7     8\n",
      "8     9\n",
      "9    10\n",
      "Name: x, dtype: int64 0     7\n",
      "1     9\n",
      "2    11\n",
      "3    13\n",
      "4    15\n",
      "5    17\n",
      "6    19\n",
      "7    21\n",
      "8    23\n",
      "9    25\n",
      "Name: y, dtype: int64\n"
     ]
    }
   ],
   "source": [
    "#data赋值\n",
    "# #取'x'列所有行，多取几列格式为 data.loc[:,['x','y']]\n",
    "# x = data.loc[0:5,'x']\n",
    "x = data.loc[:,'x']\n",
    "y = data.loc[:,'y']\n",
    "print(x,y)"
   ]
  },
  {
   "cell_type": "code",
   "execution_count": 10,
   "id": "56d73324",
   "metadata": {},
   "outputs": [
    {
     "data": {
      "image/png": "[encoded data removed]",
      "text/plain": [
       "<Figure size 432x288 with 1 Axes>"
      ]
     },
     "metadata": {
      "needs_background": "light"
     },
     "output_type": "display_data"
    }
   ],
   "source": [
    "#展示图形\n",
    "from matplotlib import pyplot as plt\n",
    "#figsize可以调节大小\n",
    "# plt.figure(figsize=(20,20))\n",
    "plt.figure()\n",
    "plt.scatter(x,y)\n",
    "plt.show()"
   ]
  },
  {
   "cell_type": "code",
   "execution_count": 20,
   "id": "8efdb6cd",
   "metadata": {},
   "outputs": [],
   "source": [
    "#建立一个模型\n",
    "import sklearn\n",
    "from sklearn.linear_model import LinearRegression\n",
    "lr_model = LinearRegression()\n"
   ]
  },
  {
   "cell_type": "code",
   "execution_count": 22,
   "id": "bcbe155a",
   "metadata": {},
   "outputs": [
    {
     "name": "stdout",
     "output_type": "stream",
     "text": [
      "<class 'numpy.ndarray'> (10, 1) <class 'numpy.ndarray'> (10, 1)\n"
     ]
    }
   ],
   "source": [
    "import numpy as np\n",
    "x= np.array(x)\n",
    "#x = x.reshape(-1,1) 直接将1维的x转换为2维\n",
    "x = x.reshape(-1,1)\n",
    "\n",
    "y= np.array(y)\n",
    "y = y.reshape(-1,1)\n",
    "print(type(x),x.shape,type(y),y.shape)"
   ]
  },
  {
   "cell_type": "code",
   "execution_count": 23,
   "id": "3dd9d02a",
   "metadata": {},
   "outputs": [
    {
     "name": "stdout",
     "output_type": "stream",
     "text": [
      "<class 'numpy.ndarray'> (10, 1)\n"
     ]
    }
   ],
   "source": [
    "print(type(x),x.shape)"
   ]
  },
  {
   "cell_type": "code",
   "execution_count": 24,
   "id": "05367ab5",
   "metadata": {},
   "outputs": [
    {
     "data": {
      "text/plain": [
       "LinearRegression()"
      ]
     },
     "execution_count": 24,
     "metadata": {},
     "output_type": "execute_result"
    }
   ],
   "source": [
    "# print(x,y)\n",
    "lr_model.fit(x,y)"
   ]
  },
  {
   "cell_type": "code",
   "execution_count": 28,
   "id": "1ded562d",
   "metadata": {},
   "outputs": [
    {
     "name": "stdout",
     "output_type": "stream",
     "text": [
      "[[ 7.]\n",
      " [ 9.]\n",
      " [11.]\n",
      " [13.]\n",
      " [15.]\n",
      " [17.]\n",
      " [19.]\n",
      " [21.]\n",
      " [23.]\n",
      " [25.]] \n",
      " [[ 7]\n",
      " [ 9]\n",
      " [11]\n",
      " [13]\n",
      " [15]\n",
      " [17]\n",
      " [19]\n",
      " [21]\n",
      " [23]\n",
      " [25]]\n"
     ]
    }
   ],
   "source": [
    "#模型的预测\n",
    "y_predict = lr_model.predict(x)\n",
    "print(y_predict,'\\n',y)"
   ]
  },
  {
   "cell_type": "code",
   "execution_count": 32,
   "id": "2ed83d54",
   "metadata": {},
   "outputs": [
    {
     "data": {
      "text/plain": [
       "array([[12.]])"
      ]
     },
     "execution_count": 32,
     "metadata": {},
     "output_type": "execute_result"
    }
   ],
   "source": [
    "#基于generated_data.csv数据，建立线性回归模型，预测x=3.5对应的y值\n",
    "y_3 = lr_model.predict([[3.5]])\n",
    "y_3\n",
    "#预测是12"
   ]
  },
  {
   "cell_type": "code",
   "execution_count": 33,
   "id": "7be909bb",
   "metadata": {},
   "outputs": [
    {
     "name": "stdout",
     "output_type": "stream",
     "text": [
      "[[2.]] [5.]\n"
     ]
    }
   ],
   "source": [
    "#a,b的打印 即 斜率和截距的打印\n",
    "\n",
    "a= lr_model.coef_\n",
    "b=lr_model.intercept_\n",
    "print(a,b)\n",
    "\n",
    "#因此a =2,b=5"
   ]
  },
  {
   "cell_type": "code",
   "execution_count": 38,
   "id": "64b86fd3",
   "metadata": {},
   "outputs": [
    {
     "name": "stdout",
     "output_type": "stream",
     "text": [
      "1.4909471108677122e-29 1.0\n"
     ]
    }
   ],
   "source": [
    "from sklearn.metrics import mean_squared_error ,r2_score\n",
    "MSE = mean_squared_error(y,y_predict)\n",
    "R2 = r2_score(y,y_predict)\n",
    "print(MSE,R2)\n",
    "\n",
    "#MSE越小越好，（接近0），R2越接近1越好"
   ]
  },
  {
   "cell_type": "code",
   "execution_count": 39,
   "id": "7fbb347b",
   "metadata": {},
   "outputs": [
    {
     "data": {
      "image/png": "[encoded data removed]",
      "text/plain": [
       "<Figure size 432x288 with 1 Axes>"
      ]
     },
     "metadata": {
      "needs_background": "light"
     },
     "output_type": "display_data"
    }
   ],
   "source": [
    "plt.figure()\n",
    "plt.plot(y,y_predict)\n",
    "plt.show()"
   ]
  },
  {
   "cell_type": "code",
   "execution_count": null,
   "id": "06e2276a",
   "metadata": {},
   "outputs": [],
   "source": []
  }
 ],
 "metadata": {
  "kernelspec": {
   "display_name": "Python 3 (ipykernel)",
   "language": "python",
   "name": "python3"
  },
  "language_info": {
   "codemirror_mode": {
    "name": "ipython",
    "version": 3
   },
   "file_extension": ".py",
   "mimetype": "text/x-python",
   "name": "python",
   "nbconvert_exporter": "python",
   "pygments_lexer": "ipython3",
   "version": "3.9.12"
  }
 },
 "nbformat": 4,
 "nbformat_minor": 5
}
