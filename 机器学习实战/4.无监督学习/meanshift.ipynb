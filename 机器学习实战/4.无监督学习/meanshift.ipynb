{
 "cells": [
  {
   "cell_type": "code",
   "execution_count": 2,
   "id": "fa3a68fa",
   "metadata": {
    "ExecuteTime": {
     "end_time": "2023-03-21T12:31:23.263165Z",
     "start_time": "2023-03-21T12:31:22.639535Z"
    }
   },
   "outputs": [
    {
     "data": {
      "text/html": [
       "<div>\n",
       "<style scoped>\n",
       "    .dataframe tbody tr th:only-of-type {\n",
       "        vertical-align: middle;\n",
       "    }\n",
       "\n",
       "    .dataframe tbody tr th {\n",
       "        vertical-align: top;\n",
       "    }\n",
       "\n",
       "    .dataframe thead th {\n",
       "        text-align: right;\n",
       "    }\n",
       "</style>\n",
       "<table border=\"1\" class=\"dataframe\">\n",
       "  <thead>\n",
       "    <tr style=\"text-align: right;\">\n",
       "      <th></th>\n",
       "      <th>V1</th>\n",
       "      <th>V2</th>\n",
       "      <th>labels</th>\n",
       "    </tr>\n",
       "  </thead>\n",
       "  <tbody>\n",
       "    <tr>\n",
       "      <th>0</th>\n",
       "      <td>2.072345</td>\n",
       "      <td>-3.241693</td>\n",
       "      <td>0</td>\n",
       "    </tr>\n",
       "    <tr>\n",
       "      <th>1</th>\n",
       "      <td>17.936710</td>\n",
       "      <td>15.784810</td>\n",
       "      <td>0</td>\n",
       "    </tr>\n",
       "    <tr>\n",
       "      <th>2</th>\n",
       "      <td>1.083576</td>\n",
       "      <td>7.319176</td>\n",
       "      <td>0</td>\n",
       "    </tr>\n",
       "    <tr>\n",
       "      <th>3</th>\n",
       "      <td>11.120670</td>\n",
       "      <td>14.406780</td>\n",
       "      <td>0</td>\n",
       "    </tr>\n",
       "    <tr>\n",
       "      <th>4</th>\n",
       "      <td>23.711550</td>\n",
       "      <td>2.557729</td>\n",
       "      <td>0</td>\n",
       "    </tr>\n",
       "  </tbody>\n",
       "</table>\n",
       "</div>"
      ],
      "text/plain": [
       "          V1         V2  labels\n",
       "0   2.072345  -3.241693       0\n",
       "1  17.936710  15.784810       0\n",
       "2   1.083576   7.319176       0\n",
       "3  11.120670  14.406780       0\n",
       "4  23.711550   2.557729       0"
      ]
     },
     "execution_count": 2,
     "metadata": {},
     "output_type": "execute_result"
    }
   ],
   "source": [
    "#加载数据\n",
    "import pandas as pd\n",
    "import numpy as np\n",
    "data = pd.read_csv('data.csv')\n",
    "data.head(5)"
   ]
  },
  {
   "cell_type": "code",
   "execution_count": 3,
   "id": "ae562ec7",
   "metadata": {
    "ExecuteTime": {
     "end_time": "2023-03-21T12:32:24.248663Z",
     "start_time": "2023-03-21T12:32:24.231711Z"
    }
   },
   "outputs": [
    {
     "data": {
      "text/plain": [
       "(          V1         V2\n",
       " 0   2.072345  -3.241693\n",
       " 1  17.936710  15.784810\n",
       " 2   1.083576   7.319176\n",
       " 3  11.120670  14.406780\n",
       " 4  23.711550   2.557729,\n",
       " 0    0\n",
       " 1    0\n",
       " 2    0\n",
       " 3    0\n",
       " 4    0\n",
       " Name: labels, dtype: int64)"
      ]
     },
     "execution_count": 3,
     "metadata": {},
     "output_type": "execute_result"
    }
   ],
   "source": [
    "#定义数据\n",
    "X = data.drop(['labels'],axis=1)\n",
    "y = data.loc[:,'labels']\n",
    "X.head(5),y.head(5)"
   ]
  },
  {
   "cell_type": "code",
   "execution_count": 4,
   "id": "24f35716",
   "metadata": {
    "ExecuteTime": {
     "end_time": "2023-03-21T12:34:55.587469Z",
     "start_time": "2023-03-21T12:34:55.550463Z"
    }
   },
   "outputs": [
    {
     "name": "stdout",
     "output_type": "stream",
     "text": [
      "30.84663454820215\n"
     ]
    }
   ],
   "source": [
    "#建立模型 #,estimate_bandwidth 估计带宽\n",
    "from sklearn.cluster import MeanShift,estimate_bandwidth\n",
    "#选择带宽 \n",
    "bw = estimate_bandwidth(X,n_samples=500) #希望使用500个样本去估算\n",
    "print(bw)"
   ]
  },
  {
   "cell_type": "code",
   "execution_count": 5,
   "id": "8d9ccb46",
   "metadata": {
    "ExecuteTime": {
     "end_time": "2023-03-21T12:35:48.772756Z",
     "start_time": "2023-03-21T12:35:42.189893Z"
    }
   },
   "outputs": [
    {
     "data": {
      "text/html": [
       "<style>#sk-container-id-1 {color: black;background-color: white;}#sk-container-id-1 pre{padding: 0;}#sk-container-id-1 div.sk-toggleable {background-color: white;}#sk-container-id-1 label.sk-toggleable__label {cursor: pointer;display: block;width: 100%;margin-bottom: 0;padding: 0.3em;box-sizing: border-box;text-align: center;}#sk-container-id-1 label.sk-toggleable__label-arrow:before {content: \"▸\";float: left;margin-right: 0.25em;color: #696969;}#sk-container-id-1 label.sk-toggleable__label-arrow:hover:before {color: black;}#sk-container-id-1 div.sk-estimator:hover label.sk-toggleable__label-arrow:before {color: black;}#sk-container-id-1 div.sk-toggleable__content {max-height: 0;max-width: 0;overflow: hidden;text-align: left;background-color: #f0f8ff;}#sk-container-id-1 div.sk-toggleable__content pre {margin: 0.2em;color: black;border-radius: 0.25em;background-color: #f0f8ff;}#sk-container-id-1 input.sk-toggleable__control:checked~div.sk-toggleable__content {max-height: 200px;max-width: 100%;overflow: auto;}#sk-container-id-1 input.sk-toggleable__control:checked~label.sk-toggleable__label-arrow:before {content: \"▾\";}#sk-container-id-1 div.sk-estimator input.sk-toggleable__control:checked~label.sk-toggleable__label {background-color: #d4ebff;}#sk-container-id-1 div.sk-label input.sk-toggleable__control:checked~label.sk-toggleable__label {background-color: #d4ebff;}#sk-container-id-1 input.sk-hidden--visually {border: 0;clip: rect(1px 1px 1px 1px);clip: rect(1px, 1px, 1px, 1px);height: 1px;margin: -1px;overflow: hidden;padding: 0;position: absolute;width: 1px;}#sk-container-id-1 div.sk-estimator {font-family: monospace;background-color: #f0f8ff;border: 1px dotted black;border-radius: 0.25em;box-sizing: border-box;margin-bottom: 0.5em;}#sk-container-id-1 div.sk-estimator:hover {background-color: #d4ebff;}#sk-container-id-1 div.sk-parallel-item::after {content: \"\";width: 100%;border-bottom: 1px solid gray;flex-grow: 1;}#sk-container-id-1 div.sk-label:hover label.sk-toggleable__label {background-color: #d4ebff;}#sk-container-id-1 div.sk-serial::before {content: \"\";position: absolute;border-left: 1px solid gray;box-sizing: border-box;top: 0;bottom: 0;left: 50%;z-index: 0;}#sk-container-id-1 div.sk-serial {display: flex;flex-direction: column;align-items: center;background-color: white;padding-right: 0.2em;padding-left: 0.2em;position: relative;}#sk-container-id-1 div.sk-item {position: relative;z-index: 1;}#sk-container-id-1 div.sk-parallel {display: flex;align-items: stretch;justify-content: center;background-color: white;position: relative;}#sk-container-id-1 div.sk-item::before, #sk-container-id-1 div.sk-parallel-item::before {content: \"\";position: absolute;border-left: 1px solid gray;box-sizing: border-box;top: 0;bottom: 0;left: 50%;z-index: -1;}#sk-container-id-1 div.sk-parallel-item {display: flex;flex-direction: column;z-index: 1;position: relative;background-color: white;}#sk-container-id-1 div.sk-parallel-item:first-child::after {align-self: flex-end;width: 50%;}#sk-container-id-1 div.sk-parallel-item:last-child::after {align-self: flex-start;width: 50%;}#sk-container-id-1 div.sk-parallel-item:only-child::after {width: 0;}#sk-container-id-1 div.sk-dashed-wrapped {border: 1px dashed gray;margin: 0 0.4em 0.5em 0.4em;box-sizing: border-box;padding-bottom: 0.4em;background-color: white;}#sk-container-id-1 div.sk-label label {font-family: monospace;font-weight: bold;display: inline-block;line-height: 1.2em;}#sk-container-id-1 div.sk-label-container {text-align: center;}#sk-container-id-1 div.sk-container {/* jupyter's `normalize.less` sets `[hidden] { display: none; }` but bootstrap.min.css set `[hidden] { display: none !important; }` so we also need the `!important` here to be able to override the default hidden behavior on the sphinx rendered scikit-learn.org. See: https://github.com/scikit-learn/scikit-learn/issues/21755 */display: inline-block !important;position: relative;}#sk-container-id-1 div.sk-text-repr-fallback {display: none;}</style><div id=\"sk-container-id-1\" class=\"sk-top-container\"><div class=\"sk-text-repr-fallback\"><pre>MeanShift(bandwidth=30.84663454820215)</pre><b>In a Jupyter environment, please rerun this cell to show the HTML representation or trust the notebook. <br />On GitHub, the HTML representation is unable to render, please try loading this page with nbviewer.org.</b></div><div class=\"sk-container\" hidden><div class=\"sk-item\"><div class=\"sk-estimator sk-toggleable\"><input class=\"sk-toggleable__control sk-hidden--visually\" id=\"sk-estimator-id-1\" type=\"checkbox\" checked><label for=\"sk-estimator-id-1\" class=\"sk-toggleable__label sk-toggleable__label-arrow\">MeanShift</label><div class=\"sk-toggleable__content\"><pre>MeanShift(bandwidth=30.84663454820215)</pre></div></div></div></div></div>"
      ],
      "text/plain": [
       "MeanShift(bandwidth=30.84663454820215)"
      ]
     },
     "execution_count": 5,
     "metadata": {},
     "output_type": "execute_result"
    }
   ],
   "source": [
    "#建立模型\n",
    "ms = MeanShift(bandwidth=bw)\n",
    "ms.fit(X) #无监督学习 不需要y"
   ]
  },
  {
   "cell_type": "code",
   "execution_count": 6,
   "id": "659e0cb0",
   "metadata": {
    "ExecuteTime": {
     "end_time": "2023-03-21T12:36:50.723428Z",
     "start_time": "2023-03-21T12:36:50.700814Z"
    }
   },
   "outputs": [
    {
     "name": "stdout",
     "output_type": "stream",
     "text": [
      "0    1149\n",
      "1     952\n",
      "2     899\n",
      "dtype: int64\n"
     ]
    }
   ],
   "source": [
    "#查看预测结果\n",
    "y_predict_ms= ms.predict(X)\n",
    "print(pd.value_counts(y_predict_ms))#自动的规划成三类 （可能对应的标签不同）"
   ]
  },
  {
   "cell_type": "code",
   "execution_count": 7,
   "id": "d801b445",
   "metadata": {
    "ExecuteTime": {
     "end_time": "2023-03-21T12:38:42.342895Z",
     "start_time": "2023-03-21T12:38:41.641829Z"
    }
   },
   "outputs": [
    {
     "data": {
      "image/png": "[encoded data removed]",
      "text/plain": [
       "<Figure size 640x480 with 2 Axes>"
      ]
     },
     "metadata": {},
     "output_type": "display_data"
    }
   ],
   "source": [
    "#可视化\n",
    "\n",
    "%matplotlib inline\n",
    "from matplotlib import pyplot as plt\n",
    "\n",
    "# KM_center = KM.cluster_centers_\n",
    "\n",
    "fig = plt.subplot(1,2,1)\n",
    "label0 = plt.scatter(X.loc[:,'V1'][y_predict_ms==0],X.loc[:,'V2'][y_predict_ms==0])\n",
    "label1 = plt.scatter(X.loc[:,'V1'][y_predict_ms==1],X.loc[:,'V2'][y_predict_ms==1])\n",
    "label2 = plt.scatter(X.loc[:,'V1'][y_predict_ms==2],X.loc[:,'V2'][y_predict_ms==2])\n",
    "plt.legend((label0,label1,label2),('label0','label1','label2'))\n",
    "plt.title(\"KNN predict data\")\n",
    "plt.xlabel('V1')\n",
    "plt.xlabel('V2')\n",
    "# plt.scatter(KM_center[:,0],KM_center[:,1])\n",
    "\n",
    "fig = plt.subplot(1,2,2)\n",
    "label0 = plt.scatter(X.loc[:,'V1'][y==0],X.loc[:,'V2'][y==0])\n",
    "label1 = plt.scatter(X.loc[:,'V1'][y==1],X.loc[:,'V2'][y==1])\n",
    "label2 = plt.scatter(X.loc[:,'V1'][y==2],X.loc[:,'V2'][y==2])\n",
    "plt.legend((label0,label1,label2),('label0','label1','label2'))\n",
    "plt.title(\"un-labeled data\")\n",
    "plt.xlabel('V1')\n",
    "plt.xlabel('V2')\n",
    "# plt.scatter(KM_center[:,0],KM_center[:,1])\n",
    "plt.show()"
   ]
  },
  {
   "cell_type": "code",
   "execution_count": 9,
   "id": "d632b648",
   "metadata": {
    "ExecuteTime": {
     "end_time": "2023-03-21T12:41:19.565990Z",
     "start_time": "2023-03-21T12:41:19.543018Z"
    }
   },
   "outputs": [
    {
     "name": "stdout",
     "output_type": "stream",
     "text": [
      "2    1149\n",
      "1     952\n",
      "0     899\n",
      "dtype: int64 2    1156\n",
      "1     954\n",
      "0     890\n",
      "Name: labels, dtype: int64\n"
     ]
    }
   ],
   "source": [
    "#数据的矫正\n",
    "y_correct = []\n",
    "for i in y_predict_ms:\n",
    "    if i == 0:\n",
    "        y_correct.append(2)\n",
    "    elif i == 1:\n",
    "        y_correct.append(1)\n",
    "    else:\n",
    "        y_correct.append(0)\n",
    "        \n",
    "print(pd.value_counts(y_correct),pd.value_counts(y))"
   ]
  },
  {
   "cell_type": "code",
   "execution_count": 11,
   "id": "cc1b0148",
   "metadata": {
    "ExecuteTime": {
     "end_time": "2023-03-21T12:42:15.521876Z",
     "start_time": "2023-03-21T12:42:15.502461Z"
    }
   },
   "outputs": [
    {
     "data": {
      "text/plain": [
       "0.997"
      ]
     },
     "execution_count": 11,
     "metadata": {},
     "output_type": "execute_result"
    }
   ],
   "source": [
    "#评估模型准确率\n",
    "from sklearn.metrics import accuracy_score\n",
    "accuracy = accuracy_score(y,y_correct)\n",
    "accuracy"
   ]
  },
  {
   "cell_type": "code",
   "execution_count": null,
   "id": "f8dadc1b",
   "metadata": {},
   "outputs": [],
   "source": []
  }
 ],
 "metadata": {
  "kernelspec": {
   "display_name": "Python 3 (ipykernel)",
   "language": "python",
   "name": "python3"
  },
  "language_info": {
   "codemirror_mode": {
    "name": "ipython",
    "version": 3
   },
   "file_extension": ".py",
   "mimetype": "text/x-python",
   "name": "python",
   "nbconvert_exporter": "python",
   "pygments_lexer": "ipython3",
   "version": "3.8.0"
  },
  "toc": {
   "base_numbering": 1,
   "nav_menu": {},
   "number_sections": true,
   "sideBar": true,
   "skip_h1_title": false,
   "title_cell": "Table of Contents",
   "title_sidebar": "Contents",
   "toc_cell": false,
   "toc_position": {},
   "toc_section_display": true,
   "toc_window_display": false
  }
 },
 "nbformat": 4,
 "nbformat_minor": 5
}
