{
 "cells": [
  {
   "cell_type": "code",
   "execution_count": 8,
   "id": "5a4aca9f",
   "metadata": {
    "ExecuteTime": {
     "end_time": "2023-03-21T12:48:45.648512Z",
     "start_time": "2023-03-21T12:48:45.624336Z"
    }
   },
   "outputs": [
    {
     "data": {
      "text/html": [
       "<div>\n",
       "<style scoped>\n",
       "    .dataframe tbody tr th:only-of-type {\n",
       "        vertical-align: middle;\n",
       "    }\n",
       "\n",
       "    .dataframe tbody tr th {\n",
       "        vertical-align: top;\n",
       "    }\n",
       "\n",
       "    .dataframe thead th {\n",
       "        text-align: right;\n",
       "    }\n",
       "</style>\n",
       "<table border=\"1\" class=\"dataframe\">\n",
       "  <thead>\n",
       "    <tr style=\"text-align: right;\">\n",
       "      <th></th>\n",
       "      <th>序号</th>\n",
       "      <th>BIRADS等级</th>\n",
       "      <th>年龄</th>\n",
       "      <th>肿块形状</th>\n",
       "      <th>肿块边缘</th>\n",
       "      <th>肿块密度</th>\n",
       "      <th>严重度</th>\n",
       "    </tr>\n",
       "  </thead>\n",
       "  <tbody>\n",
       "    <tr>\n",
       "      <th>0</th>\n",
       "      <td>1</td>\n",
       "      <td>1</td>\n",
       "      <td>69</td>\n",
       "      <td>4</td>\n",
       "      <td>5</td>\n",
       "      <td>2</td>\n",
       "      <td>1</td>\n",
       "    </tr>\n",
       "    <tr>\n",
       "      <th>1</th>\n",
       "      <td>2</td>\n",
       "      <td>1</td>\n",
       "      <td>72</td>\n",
       "      <td>4</td>\n",
       "      <td>3</td>\n",
       "      <td>2</td>\n",
       "      <td>1</td>\n",
       "    </tr>\n",
       "    <tr>\n",
       "      <th>2</th>\n",
       "      <td>3</td>\n",
       "      <td>1</td>\n",
       "      <td>71</td>\n",
       "      <td>4</td>\n",
       "      <td>4</td>\n",
       "      <td>2</td>\n",
       "      <td>1</td>\n",
       "    </tr>\n",
       "    <tr>\n",
       "      <th>3</th>\n",
       "      <td>4</td>\n",
       "      <td>1</td>\n",
       "      <td>58</td>\n",
       "      <td>4</td>\n",
       "      <td>4</td>\n",
       "      <td>2</td>\n",
       "      <td>0</td>\n",
       "    </tr>\n",
       "    <tr>\n",
       "      <th>4</th>\n",
       "      <td>5</td>\n",
       "      <td>1</td>\n",
       "      <td>45</td>\n",
       "      <td>2</td>\n",
       "      <td>4</td>\n",
       "      <td>2</td>\n",
       "      <td>0</td>\n",
       "    </tr>\n",
       "  </tbody>\n",
       "</table>\n",
       "</div>"
      ],
      "text/plain": [
       "   序号  BIRADS等级  年龄  肿块形状  肿块边缘  肿块密度  严重度\n",
       "0   1         1  69     4     5     2    1\n",
       "1   2         1  72     4     3     2    1\n",
       "2   3         1  71     4     4     2    1\n",
       "3   4         1  58     4     4     2    0\n",
       "4   5         1  45     2     4     2    0"
      ]
     },
     "execution_count": 8,
     "metadata": {},
     "output_type": "execute_result"
    }
   ],
   "source": [
    "#加载数据\n",
    "import pandas as pd\n",
    "import numpy as np\n",
    "data = pd.read_csv('Breast_cancer.csv')\n",
    "data.head(5)\n",
    "# data.shape"
   ]
  },
  {
   "cell_type": "code",
   "execution_count": 3,
   "id": "721e75d8",
   "metadata": {
    "ExecuteTime": {
     "end_time": "2023-03-21T12:47:46.624274Z",
     "start_time": "2023-03-21T12:47:46.519019Z"
    }
   },
   "outputs": [
    {
     "data": {
      "text/plain": [
       "(830, 5)"
      ]
     },
     "execution_count": 3,
     "metadata": {},
     "output_type": "execute_result"
    }
   ],
   "source": [
    "#处理数据\n",
    "X = data.drop(['序号','BIRADS等级'],axis=1)\n",
    "X.shape"
   ]
  },
  {
   "cell_type": "code",
   "execution_count": 6,
   "id": "653ea8a5",
   "metadata": {
    "ExecuteTime": {
     "end_time": "2023-03-21T12:48:32.663451Z",
     "start_time": "2023-03-21T12:48:32.655503Z"
    }
   },
   "outputs": [],
   "source": [
    "X = X.loc[0:499]"
   ]
  },
  {
   "cell_type": "code",
   "execution_count": 9,
   "id": "e9234e30",
   "metadata": {
    "ExecuteTime": {
     "end_time": "2023-03-21T12:49:20.953120Z",
     "start_time": "2023-03-21T12:49:20.944336Z"
    }
   },
   "outputs": [
    {
     "data": {
      "text/plain": [
       "(500,)"
      ]
     },
     "execution_count": 9,
     "metadata": {},
     "output_type": "execute_result"
    }
   ],
   "source": [
    "y = data.loc[0:499,'BIRADS等级']\n",
    "# y.shape"
   ]
  },
  {
   "cell_type": "code",
   "execution_count": 11,
   "id": "14ef77f0",
   "metadata": {
    "ExecuteTime": {
     "end_time": "2023-03-21T12:51:36.461856Z",
     "start_time": "2023-03-21T12:51:36.447895Z"
    }
   },
   "outputs": [
    {
     "data": {
      "text/html": [
       "<style>#sk-container-id-1 {color: black;background-color: white;}#sk-container-id-1 pre{padding: 0;}#sk-container-id-1 div.sk-toggleable {background-color: white;}#sk-container-id-1 label.sk-toggleable__label {cursor: pointer;display: block;width: 100%;margin-bottom: 0;padding: 0.3em;box-sizing: border-box;text-align: center;}#sk-container-id-1 label.sk-toggleable__label-arrow:before {content: \"▸\";float: left;margin-right: 0.25em;color: #696969;}#sk-container-id-1 label.sk-toggleable__label-arrow:hover:before {color: black;}#sk-container-id-1 div.sk-estimator:hover label.sk-toggleable__label-arrow:before {color: black;}#sk-container-id-1 div.sk-toggleable__content {max-height: 0;max-width: 0;overflow: hidden;text-align: left;background-color: #f0f8ff;}#sk-container-id-1 div.sk-toggleable__content pre {margin: 0.2em;color: black;border-radius: 0.25em;background-color: #f0f8ff;}#sk-container-id-1 input.sk-toggleable__control:checked~div.sk-toggleable__content {max-height: 200px;max-width: 100%;overflow: auto;}#sk-container-id-1 input.sk-toggleable__control:checked~label.sk-toggleable__label-arrow:before {content: \"▾\";}#sk-container-id-1 div.sk-estimator input.sk-toggleable__control:checked~label.sk-toggleable__label {background-color: #d4ebff;}#sk-container-id-1 div.sk-label input.sk-toggleable__control:checked~label.sk-toggleable__label {background-color: #d4ebff;}#sk-container-id-1 input.sk-hidden--visually {border: 0;clip: rect(1px 1px 1px 1px);clip: rect(1px, 1px, 1px, 1px);height: 1px;margin: -1px;overflow: hidden;padding: 0;position: absolute;width: 1px;}#sk-container-id-1 div.sk-estimator {font-family: monospace;background-color: #f0f8ff;border: 1px dotted black;border-radius: 0.25em;box-sizing: border-box;margin-bottom: 0.5em;}#sk-container-id-1 div.sk-estimator:hover {background-color: #d4ebff;}#sk-container-id-1 div.sk-parallel-item::after {content: \"\";width: 100%;border-bottom: 1px solid gray;flex-grow: 1;}#sk-container-id-1 div.sk-label:hover label.sk-toggleable__label {background-color: #d4ebff;}#sk-container-id-1 div.sk-serial::before {content: \"\";position: absolute;border-left: 1px solid gray;box-sizing: border-box;top: 0;bottom: 0;left: 50%;z-index: 0;}#sk-container-id-1 div.sk-serial {display: flex;flex-direction: column;align-items: center;background-color: white;padding-right: 0.2em;padding-left: 0.2em;position: relative;}#sk-container-id-1 div.sk-item {position: relative;z-index: 1;}#sk-container-id-1 div.sk-parallel {display: flex;align-items: stretch;justify-content: center;background-color: white;position: relative;}#sk-container-id-1 div.sk-item::before, #sk-container-id-1 div.sk-parallel-item::before {content: \"\";position: absolute;border-left: 1px solid gray;box-sizing: border-box;top: 0;bottom: 0;left: 50%;z-index: -1;}#sk-container-id-1 div.sk-parallel-item {display: flex;flex-direction: column;z-index: 1;position: relative;background-color: white;}#sk-container-id-1 div.sk-parallel-item:first-child::after {align-self: flex-end;width: 50%;}#sk-container-id-1 div.sk-parallel-item:last-child::after {align-self: flex-start;width: 50%;}#sk-container-id-1 div.sk-parallel-item:only-child::after {width: 0;}#sk-container-id-1 div.sk-dashed-wrapped {border: 1px dashed gray;margin: 0 0.4em 0.5em 0.4em;box-sizing: border-box;padding-bottom: 0.4em;background-color: white;}#sk-container-id-1 div.sk-label label {font-family: monospace;font-weight: bold;display: inline-block;line-height: 1.2em;}#sk-container-id-1 div.sk-label-container {text-align: center;}#sk-container-id-1 div.sk-container {/* jupyter's `normalize.less` sets `[hidden] { display: none; }` but bootstrap.min.css set `[hidden] { display: none !important; }` so we also need the `!important` here to be able to override the default hidden behavior on the sphinx rendered scikit-learn.org. See: https://github.com/scikit-learn/scikit-learn/issues/21755 */display: inline-block !important;position: relative;}#sk-container-id-1 div.sk-text-repr-fallback {display: none;}</style><div id=\"sk-container-id-1\" class=\"sk-top-container\"><div class=\"sk-text-repr-fallback\"><pre>KNeighborsClassifier(n_neighbors=3)</pre><b>In a Jupyter environment, please rerun this cell to show the HTML representation or trust the notebook. <br />On GitHub, the HTML representation is unable to render, please try loading this page with nbviewer.org.</b></div><div class=\"sk-container\" hidden><div class=\"sk-item\"><div class=\"sk-estimator sk-toggleable\"><input class=\"sk-toggleable__control sk-hidden--visually\" id=\"sk-estimator-id-1\" type=\"checkbox\" checked><label for=\"sk-estimator-id-1\" class=\"sk-toggleable__label sk-toggleable__label-arrow\">KNeighborsClassifier</label><div class=\"sk-toggleable__content\"><pre>KNeighborsClassifier(n_neighbors=3)</pre></div></div></div></div></div>"
      ],
      "text/plain": [
       "KNeighborsClassifier(n_neighbors=3)"
      ]
     },
     "execution_count": 11,
     "metadata": {},
     "output_type": "execute_result"
    }
   ],
   "source": [
    "#建立模型\n",
    "from sklearn.neighbors import KNeighborsClassifier\n",
    "KNN = KNeighborsClassifier(n_neighbors=3)\n",
    "#训练模型\n",
    "KNN.fit(X,y)"
   ]
  },
  {
   "cell_type": "code",
   "execution_count": 13,
   "id": "f4241922",
   "metadata": {
    "ExecuteTime": {
     "end_time": "2023-03-21T12:53:02.130695Z",
     "start_time": "2023-03-21T12:53:02.094725Z"
    }
   },
   "outputs": [
    {
     "name": "stdout",
     "output_type": "stream",
     "text": [
      "4    481\n",
      "1      7\n",
      "2      7\n",
      "3      5\n",
      "dtype: int64 4    464\n",
      "3     24\n",
      "2      7\n",
      "1      5\n",
      "Name: BIRADS等级, dtype: int64\n"
     ]
    }
   ],
   "source": [
    "#预测值\n",
    "y_predict = KNN.predict(X)\n",
    "print(pd.value_counts(y_predict),pd.value_counts(y))"
   ]
  },
  {
   "cell_type": "code",
   "execution_count": 14,
   "id": "f83f6fe3",
   "metadata": {
    "ExecuteTime": {
     "end_time": "2023-03-21T12:54:16.435367Z",
     "start_time": "2023-03-21T12:54:16.414900Z"
    }
   },
   "outputs": [
    {
     "data": {
      "text/plain": [
       "0.928"
      ]
     },
     "execution_count": 14,
     "metadata": {},
     "output_type": "execute_result"
    }
   ],
   "source": [
    "#评估模型准确率\n",
    "from sklearn.metrics import accuracy_score \n",
    "accuracy = accuracy_score(y,y_predict)\n",
    "accuracy"
   ]
  },
  {
   "cell_type": "code",
   "execution_count": 15,
   "id": "c8500dd1",
   "metadata": {
    "ExecuteTime": {
     "end_time": "2023-03-21T12:56:36.337159Z",
     "start_time": "2023-03-21T12:56:36.329180Z"
    }
   },
   "outputs": [],
   "source": [
    "#可视化模型\n",
    "# %matplotlib inline \n",
    "# from matplotlib import pyplot as plt\n",
    "\n",
    "#不好意思 忘记了这个数据不是二维的不可以画平面图\n"
   ]
  },
  {
   "cell_type": "code",
   "execution_count": 16,
   "id": "dde37a07",
   "metadata": {
    "ExecuteTime": {
     "end_time": "2023-03-21T12:57:45.717034Z",
     "start_time": "2023-03-21T12:57:45.703034Z"
    }
   },
   "outputs": [],
   "source": [
    "# 测试集合预测"
   ]
  },
  {
   "attachments": {
    "image.png": {
     "image/png": "[encoded data removed]"
    }
   },
   "cell_type": "markdown",
   "id": "c4b1b99a",
   "metadata": {},
   "source": [
    "![image.png](attachment:image.png)"
   ]
  },
  {
   "cell_type": "code",
   "execution_count": 17,
   "id": "db58525c",
   "metadata": {
    "ExecuteTime": {
     "end_time": "2023-03-21T13:00:27.715561Z",
     "start_time": "2023-03-21T13:00:27.704591Z"
    }
   },
   "outputs": [],
   "source": [
    "y_test1 = [[56,2,4,2,0]]\n",
    "y_test2 = [[35,2,1,2,0]]\n",
    "y_test3 = [[47,2,1,2,0]]\n",
    "y_test4 = [[64,4,5,2,0]]\n",
    "y_test5 = [[62,3,3,2,0]]"
   ]
  },
  {
   "cell_type": "code",
   "execution_count": 19,
   "id": "6d5509b6",
   "metadata": {
    "ExecuteTime": {
     "end_time": "2023-03-21T13:01:32.901017Z",
     "start_time": "2023-03-21T13:01:32.886058Z"
    }
   },
   "outputs": [
    {
     "name": "stderr",
     "output_type": "stream",
     "text": [
      "D:\\download\\anaconda3\\envs\\machine_learning\\lib\\site-packages\\sklearn\\base.py:439: UserWarning: X does not have valid feature names, but KNeighborsClassifier was fitted with feature names\n",
      "  warnings.warn(\n",
      "D:\\download\\anaconda3\\envs\\machine_learning\\lib\\site-packages\\sklearn\\base.py:439: UserWarning: X does not have valid feature names, but KNeighborsClassifier was fitted with feature names\n",
      "  warnings.warn(\n",
      "D:\\download\\anaconda3\\envs\\machine_learning\\lib\\site-packages\\sklearn\\base.py:439: UserWarning: X does not have valid feature names, but KNeighborsClassifier was fitted with feature names\n",
      "  warnings.warn(\n",
      "D:\\download\\anaconda3\\envs\\machine_learning\\lib\\site-packages\\sklearn\\base.py:439: UserWarning: X does not have valid feature names, but KNeighborsClassifier was fitted with feature names\n",
      "  warnings.warn(\n",
      "D:\\download\\anaconda3\\envs\\machine_learning\\lib\\site-packages\\sklearn\\base.py:439: UserWarning: X does not have valid feature names, but KNeighborsClassifier was fitted with feature names\n",
      "  warnings.warn(\n"
     ]
    }
   ],
   "source": [
    "y_test1_predict = KNN.predict(y_test1)\n",
    "y_test2_predict = KNN.predict(y_test2)\n",
    "y_test3_predict = KNN.predict(y_test3)\n",
    "y_test4_predict = KNN.predict(y_test4)\n",
    "y_test5_predict = KNN.predict(y_test5)"
   ]
  },
  {
   "cell_type": "code",
   "execution_count": 20,
   "id": "676ae47a",
   "metadata": {
    "ExecuteTime": {
     "end_time": "2023-03-21T13:02:16.866251Z",
     "start_time": "2023-03-21T13:02:16.846300Z"
    }
   },
   "outputs": [
    {
     "name": "stdout",
     "output_type": "stream",
     "text": [
      "[4] [4] [4] [4] [4]\n"
     ]
    }
   ],
   "source": [
    "print(y_test1_predict,y_test2_predict,y_test3_predict,y_test4_predict,y_test5_predict)"
   ]
  },
  {
   "cell_type": "code",
   "execution_count": null,
   "id": "da27912f",
   "metadata": {},
   "outputs": [],
   "source": [
    "#预测全部正确"
   ]
  }
 ],
 "metadata": {
  "kernelspec": {
   "display_name": "Python 3 (ipykernel)",
   "language": "python",
   "name": "python3"
  },
  "language_info": {
   "codemirror_mode": {
    "name": "ipython",
    "version": 3
   },
   "file_extension": ".py",
   "mimetype": "text/x-python",
   "name": "python",
   "nbconvert_exporter": "python",
   "pygments_lexer": "ipython3",
   "version": "3.8.0"
  },
  "toc": {
   "base_numbering": 1,
   "nav_menu": {},
   "number_sections": true,
   "sideBar": true,
   "skip_h1_title": false,
   "title_cell": "Table of Contents",
   "title_sidebar": "Contents",
   "toc_cell": false,
   "toc_position": {},
   "toc_section_display": true,
   "toc_window_display": false
  }
 },
 "nbformat": 4,
 "nbformat_minor": 5
}
